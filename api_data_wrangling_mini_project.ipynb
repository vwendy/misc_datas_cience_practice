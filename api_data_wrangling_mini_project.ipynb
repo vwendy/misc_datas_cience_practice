{
 "cells": [
  {
   "cell_type": "markdown",
   "metadata": {},
   "source": [
    "This exercise will require you to pull some data from the Qunadl API. Qaundl is currently the most widely used aggregator of financial market data."
   ]
  },
  {
   "cell_type": "markdown",
   "metadata": {},
   "source": [
    "As a first step, you will need to register a free account on the http://www.quandl.com website."
   ]
  },
  {
   "cell_type": "markdown",
   "metadata": {},
   "source": [
    "After you register, you will be provided with a unique API key, that you should store:"
   ]
  },
  {
   "cell_type": "code",
   "execution_count": 65,
   "metadata": {},
   "outputs": [],
   "source": [
    "# Store the API key as a string - according to PEP8, constants are always named in all upper case\n"
   ]
  },
  {
   "cell_type": "markdown",
   "metadata": {},
   "source": [
    "Qaundl has a large number of data sources, but, unfortunately, most of them require a Premium subscription. Still, there are also a good number of free datasets."
   ]
  },
  {
   "cell_type": "markdown",
   "metadata": {},
   "source": [
    "For this mini project, we will focus on equities data from the Frankfurt Stock Exhange (FSE), which is available for free. We'll try and analyze the stock prices of a company called Carl Zeiss Meditec, which manufactures tools for eye examinations, as well as medical lasers for laser eye surgery: https://www.zeiss.com/meditec/int/home.html. The company is listed under the stock ticker AFX_X."
   ]
  },
  {
   "cell_type": "markdown",
   "metadata": {},
   "source": [
    "You can find the detailed Quandl API instructions here: https://docs.quandl.com/docs/time-series"
   ]
  },
  {
   "cell_type": "markdown",
   "metadata": {},
   "source": [
    "While there is a dedicated Python package for connecting to the Quandl API, we would prefer that you use the *requests* package, which can be easily downloaded using *pip* or *conda*. You can find the documentation for the package here: http://docs.python-requests.org/en/master/ "
   ]
  },
  {
   "cell_type": "markdown",
   "metadata": {},
   "source": [
    "Finally, apart from the *requests* package, you are encouraged to not use any third party Python packages, such as *pandas*, and instead focus on what's available in the Python Standard Library (the *collections* module might come in handy: https://pymotw.com/3/collections/ ).\n",
    "Also, since you won't have access to DataFrames, you are encouraged to us Python's native data structures - preferably dictionaries, though some questions can also be answered using lists.\n",
    "You can read more on these data structures here: https://docs.python.org/3/tutorial/datastructures.html"
   ]
  },
  {
   "cell_type": "markdown",
   "metadata": {},
   "source": [
    "Keep in mind that the JSON responses you will be getting from the API map almost one-to-one to Python's dictionaries. Unfortunately, they can be very nested, so make sure you read up on indexing dictionaries in the documentation provided above."
   ]
  },
  {
   "cell_type": "code",
   "execution_count": 66,
   "metadata": {},
   "outputs": [],
   "source": [
    "# First, import the relevant modules\n",
    "\n",
    "import requests\n",
    "import pandas as pd\n",
    "import collections\n",
    "import json\n",
    "from pandas import DataFrame"
   ]
  },
  {
   "cell_type": "code",
   "execution_count": 67,
   "metadata": {},
   "outputs": [],
   "source": [
    "# Now, call the Quandl API and pull out a small sample of the data (only one day) to get a glimpse\n",
    "# into the JSON structure that will be returned\n",
    "\n",
    "\n",
    "data = r.json()\n",
    "\n",
    "        "
   ]
  },
  {
   "cell_type": "code",
   "execution_count": null,
   "metadata": {},
   "outputs": [],
   "source": []
  },
  {
   "cell_type": "markdown",
   "metadata": {},
   "source": [
    "These are your tasks for this mini project:\n",
    "\n",
    "1. Collect data from the Franfurt Stock Exchange, for the ticker AFX_X, for the whole year 2017 (keep in mind that the date format is YYYY-MM-DD).\n",
    "2. Convert the returned JSON object into a Python dictionary.\n",
    "3. Calculate what the highest and lowest opening prices were for the stock in this period.\n",
    "4. What was the largest change in any one day (based on High and Low price)?\n",
    "5. What was the largest change between any two days (based on Closing Price)?\n",
    "6. What was the average daily trading volume during this year?\n",
    "7. (Optional) What was the median trading volume during this year. (Note: you may need to implement your own function for calculating the median.)"
   ]
  },
  {
   "cell_type": "code",
   "execution_count": 68,
   "metadata": {},
   "outputs": [
    {
     "name": "stdout",
     "output_type": "stream",
     "text": [
      "         Date   Open   High    Low  Close  Volume  Adjustment Factor  \\\n",
      "0  2018-11-30  17.54  17.54  17.54  17.54     0.0                NaN   \n",
      "1  2018-11-29  17.04  17.04  17.04  17.04     0.0                NaN   \n",
      "2  2018-11-28  17.38  17.38  17.38  17.38     0.0                NaN   \n",
      "3  2018-11-27  17.60  17.60  17.60  17.60     0.0                NaN   \n",
      "4  2018-11-26  17.54  17.54  17.54  17.54     0.0                NaN   \n",
      "\n",
      "   Adjustment Type  \n",
      "0              NaN  \n",
      "1              NaN  \n",
      "2              NaN  \n",
      "3              NaN  \n",
      "4              NaN  \n"
     ]
    }
   ],
   "source": [
    "\n",
    "for key, value in data.items():\n",
    "#     print(key)\n",
    "    inner_dict  = value\n",
    "    for key2, value2 in inner_dict.items():\n",
    "        pass\n",
    "#         print('key:' + key2)\n",
    "#         print('value:')\n",
    "#         print(value2)\n",
    "\n",
    "selected_data = data['dataset']['data']\n",
    "# print(selected_data)\n",
    "selected_data = DataFrame (selected_data,columns=data['dataset']['column_names'])\n",
    "print(selected_data.head())"
   ]
  },
  {
   "cell_type": "code",
   "execution_count": 69,
   "metadata": {},
   "outputs": [
    {
     "name": "stdout",
     "output_type": "stream",
     "text": [
      "             Open        High         Low       Close       Volume  \\\n",
      "count  260.000000  260.000000  260.000000  260.000000   260.000000   \n",
      "mean   106.124842  107.308138  105.854323  106.918096   131.357692   \n",
      "std      6.613434    6.753165    6.461637    6.720764   299.410629   \n",
      "min     91.000000   91.000000   91.000000   91.000000     0.000000   \n",
      "25%    101.691750  102.650000  101.506750  102.487500     0.000000   \n",
      "50%    105.563500  107.000000  105.492000  106.750000    50.000000   \n",
      "75%    111.015750  112.502500  110.985750  112.017750   151.250000   \n",
      "max    126.000000  126.788000  123.550000  126.788000  3700.000000   \n",
      "\n",
      "       Adjustment Factor  Adjustment Type      change  \n",
      "count           2.000000         2.000000  260.000000  \n",
      "mean            0.981928        10.000000    1.453815  \n",
      "std             0.025557         9.899495    1.654781  \n",
      "min             0.963857         3.000000    0.000000  \n",
      "25%             0.972893         6.500000    0.000000  \n",
      "50%             0.981928        10.000000    1.058500  \n",
      "75%             0.990964        13.500000    2.520500  \n",
      "max             1.000000        17.000000   11.358000  \n"
     ]
    },
    {
     "name": "stderr",
     "output_type": "stream",
     "text": [
      "<ipython-input-69-d9fb9e46243d>:2: SettingWithCopyWarning: \n",
      "A value is trying to be set on a copy of a slice from a DataFrame.\n",
      "Try using .loc[row_indexer,col_indexer] = value instead\n",
      "\n",
      "See the caveats in the documentation: https://pandas.pydata.org/pandas-docs/stable/user_guide/indexing.html#returning-a-view-versus-a-copy\n",
      "  selected_year[\"change\"] = selected_year[\"High\"] - selected_year[\"Low\"]\n"
     ]
    }
   ],
   "source": [
    "selected_year = selected_data[selected_data['Date'].str.contains(\"2017\")]\n",
    "selected_year[\"change\"] = selected_year[\"High\"] - selected_year[\"Low\"]\n",
    "\n",
    "\n",
    "print(selected_year.describe())"
   ]
  },
  {
   "cell_type": "markdown",
   "metadata": {},
   "source": []
  },
  {
   "cell_type": "code",
   "execution_count": 70,
   "metadata": {},
   "outputs": [
    {
     "name": "stdout",
     "output_type": "stream",
     "text": [
      "             Open        High         Low       Close       Volume  \\\n",
      "count  260.000000  260.000000  260.000000  260.000000   260.000000   \n",
      "mean   106.124842  107.308138  105.854323  106.918096   131.357692   \n",
      "std      6.613434    6.753165    6.461637    6.720764   299.410629   \n",
      "min     91.000000   91.000000   91.000000   91.000000     0.000000   \n",
      "25%    101.691750  102.650000  101.506750  102.487500     0.000000   \n",
      "50%    105.563500  107.000000  105.492000  106.750000    50.000000   \n",
      "75%    111.015750  112.502500  110.985750  112.017750   151.250000   \n",
      "max    126.000000  126.788000  123.550000  126.788000  3700.000000   \n",
      "\n",
      "       Adjustment Factor  Adjustment Type      change  Open_shiftback2  \\\n",
      "count           2.000000         2.000000  258.000000       258.000000   \n",
      "mean            0.981928        10.000000    0.084043       106.065151   \n",
      "std             0.025557         9.899495    2.485445         6.603604   \n",
      "min             0.963857         3.000000   -8.938000        91.000000   \n",
      "25%             0.972893         6.500000   -1.493750       101.685250   \n",
      "50%             0.981928        10.000000    0.000000       105.500000   \n",
      "75%             0.990964        13.500000    1.637500       110.995250   \n",
      "max             1.000000        17.000000   11.542000       126.000000   \n",
      "\n",
      "       High_shiftback2  Low_shiftback2  Close_shiftback2  Volume_shiftback2  \\\n",
      "count        258.00000      258.000000        258.000000         258.000000   \n",
      "mean         107.25762      105.793659        106.865678         132.259690   \n",
      "std            6.75439        6.449326          6.719969         300.393799   \n",
      "min           91.00000       91.000000         91.000000           0.000000   \n",
      "25%          102.65000      101.502250        102.462500           0.000000   \n",
      "50%          107.00000      105.470500        106.650000          50.000000   \n",
      "75%          112.45000      110.880000        111.999000         151.750000   \n",
      "max          126.78800      123.550000        126.788000        3700.000000   \n",
      "\n",
      "       Adjustment Factor_shiftback2  Adjustment Type_shiftback2  \\\n",
      "count                      2.000000                    2.000000   \n",
      "mean                       0.981928                   10.000000   \n",
      "std                        0.025557                    9.899495   \n",
      "min                        0.963857                    3.000000   \n",
      "25%                        0.972893                    6.500000   \n",
      "50%                        0.981928                   10.000000   \n",
      "75%                        0.990964                   13.500000   \n",
      "max                        1.000000                   17.000000   \n",
      "\n",
      "       change_shiftback2  \n",
      "count         258.000000  \n",
      "mean            1.463961  \n",
      "std             1.657109  \n",
      "min             0.000000  \n",
      "25%             0.000000  \n",
      "50%             1.067500  \n",
      "75%             2.523500  \n",
      "max            11.358000  \n"
     ]
    }
   ],
   "source": [
    "selected_year_shift = pd.concat([selected_year, selected_year.shift(2)], axis=1)\n",
    "\n",
    "\n",
    "selected_year_shift.columns = selected_year.columns.tolist()+(selected_year.columns+'_shiftback2').tolist()\n",
    "\n",
    "\n",
    "selected_year_shift.change = selected_year_shift.Close - selected_year_shift.Close_shiftback2\n",
    "selected_year_shift.head()\n",
    "\n",
    "print(selected_year_shift.describe())"
   ]
  },
  {
   "cell_type": "markdown",
   "metadata": {},
   "source": [
    "Here are the answers: Note this is a different stock because the stock price of Zeiss was not accessible. \n",
    "\n",
    "Calculate what the highest and lowest opening prices were for the stock in this period.\n",
    "highest opening in 2017 is 126, lowest is 91\n",
    "\n",
    "What was the largest change in any one day (based on High and Low price)?\n",
    "largest change was 11.36\n",
    "\n",
    "What was the largest change between any two days (based on Closing Price)?\n",
    "largest change between two days was 11.36. \n",
    "\n",
    "What was the average daily trading volume during this year?\n",
    "avg daily volume is 131.4\n",
    "\n",
    "(Optional) What was the median trading volume during this year. (Note: you may need to implement your own function for calculating the median.)\n",
    "median is 50# "
   ]
  },
  {
   "cell_type": "code",
   "execution_count": null,
   "metadata": {},
   "outputs": [],
   "source": []
  }
 ],
 "metadata": {
  "kernelspec": {
   "display_name": "Python 3",
   "language": "python",
   "name": "python3"
  },
  "language_info": {
   "codemirror_mode": {
    "name": "ipython",
    "version": 3
   },
   "file_extension": ".py",
   "mimetype": "text/x-python",
   "name": "python",
   "nbconvert_exporter": "python",
   "pygments_lexer": "ipython3",
   "version": "3.8.3"
  }
 },
 "nbformat": 4,
 "nbformat_minor": 2
}
